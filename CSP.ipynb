{
  "nbformat": 4,
  "nbformat_minor": 0,
  "metadata": {
    "colab": {
      "provenance": [],
      "authorship_tag": "ABX9TyOkaQ4XtL3MAuF+Kd9IWN2R",
      "include_colab_link": true
    },
    "kernelspec": {
      "name": "python3",
      "display_name": "Python 3"
    },
    "language_info": {
      "name": "python"
    }
  },
  "cells": [
    {
      "cell_type": "markdown",
      "metadata": {
        "id": "view-in-github",
        "colab_type": "text"
      },
      "source": [
        "<a href=\"https://colab.research.google.com/github/Shanza-Rafique/DFS-BFS/blob/main/CSP.ipynb\" target=\"_parent\"><img src=\"https://colab.research.google.com/assets/colab-badge.svg\" alt=\"Open In Colab\"/></a>"
      ]
    },
    {
      "cell_type": "code",
      "execution_count": 1,
      "metadata": {
        "colab": {
          "base_uri": "https://localhost:8080/"
        },
        "id": "uRwIvmgzV7qw",
        "outputId": "13433885-25c4-4ac3-fb51-d5a78783b04f"
      },
      "outputs": [
        {
          "output_type": "stream",
          "name": "stdout",
          "text": [
            "Solution found:\n",
            "NSW: G\n",
            "NT: G\n",
            "QLD: R\n",
            "SA: B\n",
            "TAS: R\n",
            "VIC: R\n",
            "WA: R\n"
          ]
        }
      ],
      "source": [
        "def australian_map_coloring():\n",
        "    # Variables\n",
        "    regions = ['WA', 'NT', 'SA', 'QLD', 'NSW', 'VIC', 'TAS']\n",
        "\n",
        "    # Domains\n",
        "    colors = ['R', 'G', 'B']\n",
        "\n",
        "    # Adjacency (constraints)\n",
        "    adjacency = {\n",
        "        'WA': ['NT', 'SA'],\n",
        "        'NT': ['WA', 'SA', 'QLD'],\n",
        "        'SA': ['WA', 'NT', 'QLD', 'NSW', 'VIC'],\n",
        "        'QLD': ['NT', 'SA', 'NSW'],\n",
        "        'NSW': ['SA', 'QLD', 'VIC'],\n",
        "        'VIC': ['SA', 'NSW'],\n",
        "        'TAS': []\n",
        "    }\n",
        "\n",
        "    # Assignment dictionary: region -> color\n",
        "    assignment = {}\n",
        "\n",
        "    def is_valid(region, color):\n",
        "        \"\"\"Check if assigning 'color' to 'region' breaks any constraints.\"\"\"\n",
        "        for neighbor in adjacency[region]:\n",
        "            if neighbor in assignment and assignment[neighbor] == color:\n",
        "                return False\n",
        "        return True\n",
        "\n",
        "    def backtrack():\n",
        "        # If all regions assigned, return True\n",
        "        if len(assignment) == len(regions):\n",
        "            return True\n",
        "\n",
        "        # Select an unassigned region\n",
        "        unassigned = [r for r in regions if r not in assignment]\n",
        "        region = unassigned[0]\n",
        "\n",
        "        for color in colors:\n",
        "            if is_valid(region, color):\n",
        "                assignment[region] = color\n",
        "                if backtrack():\n",
        "                    return True\n",
        "                # Backtrack\n",
        "                del assignment[region]\n",
        "        return False\n",
        "\n",
        "    # Run backtracking\n",
        "    if backtrack():\n",
        "        return assignment\n",
        "    else:\n",
        "        return None\n",
        "\n",
        "# Test the solution\n",
        "solution = australian_map_coloring()\n",
        "if solution:\n",
        "    print(\"Solution found:\")\n",
        "    for region in sorted(solution):\n",
        "        print(f\"{region}: {solution[region]}\")\n",
        "else:\n",
        "    print(\"No solution exists.\")\n"
      ]
    }
  ]
}